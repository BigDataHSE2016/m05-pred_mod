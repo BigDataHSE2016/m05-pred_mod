{
 "cells": [
  {
   "cell_type": "code",
   "execution_count": 1,
   "metadata": {
    "collapsed": true
   },
   "outputs": [],
   "source": [
    "import numpy as np\n",
    "import pandas as pd\n",
    "import matplotlib.pyplot as plt\n",
    "from IPython.display import display\n",
    "% matplotlib inline"
   ]
  },
  {
   "cell_type": "code",
   "execution_count": 62,
   "metadata": {},
   "outputs": [
    {
     "name": "stdout",
     "output_type": "stream",
     "text": [
      "(5834, 251)\n",
      "(2874, 251)\n"
     ]
    },
    {
     "name": "stderr",
     "output_type": "stream",
     "text": [
      "/opt/anaconda2/envs/py36/lib/python3.6/site-packages/IPython/core/interactiveshell.py:2717: DtypeWarning: Columns (90,105,119,120,123,124,132,134,135,138,139,147,149,150,153,154,162,164,165,168,169,177,179,183,184,192,194,198,199,207,209,213,214,224,237,239,244) have mixed types. Specify dtype option on import or set low_memory=False.\n",
      "  interactivity=interactivity, compiler=compiler, result=result)\n"
     ]
    },
    {
     "data": {
      "text/html": [
       "<div>\n",
       "<style>\n",
       "    .dataframe thead tr:only-child th {\n",
       "        text-align: right;\n",
       "    }\n",
       "\n",
       "    .dataframe thead th {\n",
       "        text-align: left;\n",
       "    }\n",
       "\n",
       "    .dataframe tbody tr th {\n",
       "        vertical-align: top;\n",
       "    }\n",
       "</style>\n",
       "<table border=\"1\" class=\"dataframe\">\n",
       "  <thead>\n",
       "    <tr style=\"text-align: right;\">\n",
       "      <th></th>\n",
       "      <th>Grant.Status</th>\n",
       "      <th>Sponsor.Code</th>\n",
       "      <th>Grant.Category.Code</th>\n",
       "      <th>Contract.Value.Band...see.note.A</th>\n",
       "      <th>Start.date</th>\n",
       "      <th>RFCD.Code.1</th>\n",
       "      <th>RFCD.Percentage.1</th>\n",
       "      <th>RFCD.Code.2</th>\n",
       "      <th>RFCD.Percentage.2</th>\n",
       "      <th>RFCD.Code.3</th>\n",
       "      <th>...</th>\n",
       "      <th>Faculty.No..15</th>\n",
       "      <th>With.PHD.15</th>\n",
       "      <th>No..of.Years.in.Uni.at.Time.of.Grant.15</th>\n",
       "      <th>Number.of.Successful.Grant.15</th>\n",
       "      <th>Number.of.Unsuccessful.Grant.15</th>\n",
       "      <th>A..15</th>\n",
       "      <th>A.15</th>\n",
       "      <th>B.15</th>\n",
       "      <th>C.15</th>\n",
       "      <th>Unnamed: 251</th>\n",
       "    </tr>\n",
       "    <tr>\n",
       "      <th>Grant.Application.ID</th>\n",
       "      <th></th>\n",
       "      <th></th>\n",
       "      <th></th>\n",
       "      <th></th>\n",
       "      <th></th>\n",
       "      <th></th>\n",
       "      <th></th>\n",
       "      <th></th>\n",
       "      <th></th>\n",
       "      <th></th>\n",
       "      <th></th>\n",
       "      <th></th>\n",
       "      <th></th>\n",
       "      <th></th>\n",
       "      <th></th>\n",
       "      <th></th>\n",
       "      <th></th>\n",
       "      <th></th>\n",
       "      <th></th>\n",
       "      <th></th>\n",
       "      <th></th>\n",
       "    </tr>\n",
       "  </thead>\n",
       "  <tbody>\n",
       "    <tr>\n",
       "      <th>45</th>\n",
       "      <td>0</td>\n",
       "      <td>89A</td>\n",
       "      <td>30B</td>\n",
       "      <td>NaN</td>\n",
       "      <td>19/11/05</td>\n",
       "      <td>320602.0</td>\n",
       "      <td>100.0</td>\n",
       "      <td>0.0</td>\n",
       "      <td>0.0</td>\n",
       "      <td>0.0</td>\n",
       "      <td>...</td>\n",
       "      <td>NaN</td>\n",
       "      <td>NaN</td>\n",
       "      <td>NaN</td>\n",
       "      <td>NaN</td>\n",
       "      <td>NaN</td>\n",
       "      <td>NaN</td>\n",
       "      <td>NaN</td>\n",
       "      <td>NaN</td>\n",
       "      <td>NaN</td>\n",
       "      <td>NaN</td>\n",
       "    </tr>\n",
       "    <tr>\n",
       "      <th>3880</th>\n",
       "      <td>0</td>\n",
       "      <td>4D</td>\n",
       "      <td>10A</td>\n",
       "      <td>NaN</td>\n",
       "      <td>24/11/06</td>\n",
       "      <td>321003.0</td>\n",
       "      <td>100.0</td>\n",
       "      <td>0.0</td>\n",
       "      <td>0.0</td>\n",
       "      <td>0.0</td>\n",
       "      <td>...</td>\n",
       "      <td>NaN</td>\n",
       "      <td>NaN</td>\n",
       "      <td>NaN</td>\n",
       "      <td>NaN</td>\n",
       "      <td>NaN</td>\n",
       "      <td>NaN</td>\n",
       "      <td>NaN</td>\n",
       "      <td>NaN</td>\n",
       "      <td>NaN</td>\n",
       "      <td>NaN</td>\n",
       "    </tr>\n",
       "    <tr>\n",
       "      <th>2949</th>\n",
       "      <td>0</td>\n",
       "      <td>4D</td>\n",
       "      <td>20C</td>\n",
       "      <td>NaN</td>\n",
       "      <td>4/09/06</td>\n",
       "      <td>321004.0</td>\n",
       "      <td>100.0</td>\n",
       "      <td>0.0</td>\n",
       "      <td>0.0</td>\n",
       "      <td>0.0</td>\n",
       "      <td>...</td>\n",
       "      <td>NaN</td>\n",
       "      <td>NaN</td>\n",
       "      <td>NaN</td>\n",
       "      <td>NaN</td>\n",
       "      <td>NaN</td>\n",
       "      <td>NaN</td>\n",
       "      <td>NaN</td>\n",
       "      <td>NaN</td>\n",
       "      <td>NaN</td>\n",
       "      <td>NaN</td>\n",
       "    </tr>\n",
       "    <tr>\n",
       "      <th>8091</th>\n",
       "      <td>0</td>\n",
       "      <td>4D</td>\n",
       "      <td>10A</td>\n",
       "      <td>NaN</td>\n",
       "      <td>7/10/08</td>\n",
       "      <td>321004.0</td>\n",
       "      <td>100.0</td>\n",
       "      <td>0.0</td>\n",
       "      <td>0.0</td>\n",
       "      <td>0.0</td>\n",
       "      <td>...</td>\n",
       "      <td>NaN</td>\n",
       "      <td>NaN</td>\n",
       "      <td>NaN</td>\n",
       "      <td>NaN</td>\n",
       "      <td>NaN</td>\n",
       "      <td>NaN</td>\n",
       "      <td>NaN</td>\n",
       "      <td>NaN</td>\n",
       "      <td>NaN</td>\n",
       "      <td>NaN</td>\n",
       "    </tr>\n",
       "    <tr>\n",
       "      <th>1188</th>\n",
       "      <td>1</td>\n",
       "      <td>34B</td>\n",
       "      <td>30C</td>\n",
       "      <td>A</td>\n",
       "      <td>1/12/05</td>\n",
       "      <td>270501.0</td>\n",
       "      <td>75.0</td>\n",
       "      <td>270701.0</td>\n",
       "      <td>25.0</td>\n",
       "      <td>0.0</td>\n",
       "      <td>...</td>\n",
       "      <td>NaN</td>\n",
       "      <td>NaN</td>\n",
       "      <td>NaN</td>\n",
       "      <td>NaN</td>\n",
       "      <td>NaN</td>\n",
       "      <td>NaN</td>\n",
       "      <td>NaN</td>\n",
       "      <td>NaN</td>\n",
       "      <td>NaN</td>\n",
       "      <td>NaN</td>\n",
       "    </tr>\n",
       "  </tbody>\n",
       "</table>\n",
       "<p>5 rows × 251 columns</p>\n",
       "</div>"
      ],
      "text/plain": [
       "                      Grant.Status Sponsor.Code Grant.Category.Code  \\\n",
       "Grant.Application.ID                                                  \n",
       "45                               0          89A                 30B   \n",
       "3880                             0           4D                 10A   \n",
       "2949                             0           4D                 20C   \n",
       "8091                             0           4D                 10A   \n",
       "1188                             1          34B                 30C   \n",
       "\n",
       "                     Contract.Value.Band...see.note.A Start.date  RFCD.Code.1  \\\n",
       "Grant.Application.ID                                                            \n",
       "45                                                NaN   19/11/05     320602.0   \n",
       "3880                                              NaN   24/11/06     321003.0   \n",
       "2949                                              NaN    4/09/06     321004.0   \n",
       "8091                                              NaN    7/10/08     321004.0   \n",
       "1188                                               A     1/12/05     270501.0   \n",
       "\n",
       "                      RFCD.Percentage.1  RFCD.Code.2  RFCD.Percentage.2  \\\n",
       "Grant.Application.ID                                                      \n",
       "45                                100.0          0.0                0.0   \n",
       "3880                              100.0          0.0                0.0   \n",
       "2949                              100.0          0.0                0.0   \n",
       "8091                              100.0          0.0                0.0   \n",
       "1188                               75.0     270701.0               25.0   \n",
       "\n",
       "                      RFCD.Code.3      ...       Faculty.No..15  With.PHD.15  \\\n",
       "Grant.Application.ID                   ...                                     \n",
       "45                            0.0      ...                  NaN          NaN   \n",
       "3880                          0.0      ...                  NaN          NaN   \n",
       "2949                          0.0      ...                  NaN          NaN   \n",
       "8091                          0.0      ...                  NaN          NaN   \n",
       "1188                          0.0      ...                  NaN          NaN   \n",
       "\n",
       "                      No..of.Years.in.Uni.at.Time.of.Grant.15  \\\n",
       "Grant.Application.ID                                            \n",
       "45                                                        NaN   \n",
       "3880                                                      NaN   \n",
       "2949                                                      NaN   \n",
       "8091                                                      NaN   \n",
       "1188                                                      NaN   \n",
       "\n",
       "                      Number.of.Successful.Grant.15  \\\n",
       "Grant.Application.ID                                  \n",
       "45                                              NaN   \n",
       "3880                                            NaN   \n",
       "2949                                            NaN   \n",
       "8091                                            NaN   \n",
       "1188                                            NaN   \n",
       "\n",
       "                      Number.of.Unsuccessful.Grant.15  A..15  A.15  B.15  \\\n",
       "Grant.Application.ID                                                       \n",
       "45                                                NaN    NaN   NaN   NaN   \n",
       "3880                                              NaN    NaN   NaN   NaN   \n",
       "2949                                              NaN    NaN   NaN   NaN   \n",
       "8091                                              NaN    NaN   NaN   NaN   \n",
       "1188                                              NaN    NaN   NaN   NaN   \n",
       "\n",
       "                      C.15  Unnamed: 251  \n",
       "Grant.Application.ID                      \n",
       "45                     NaN           NaN  \n",
       "3880                   NaN           NaN  \n",
       "2949                   NaN           NaN  \n",
       "8091                   NaN           NaN  \n",
       "1188                   NaN           NaN  \n",
       "\n",
       "[5 rows x 251 columns]"
      ]
     },
     "execution_count": 62,
     "metadata": {},
     "output_type": "execute_result"
    }
   ],
   "source": [
    "train_df = pd.read_csv('unimelb_training.csv', index_col=0)\n",
    "\n",
    "# test_df = pd.read_csv('unimelb_test.csv', index_col=0)\n",
    "\n",
    "from sklearn.model_selection import train_test_split\n",
    "\n",
    "train_df, test_df = train_test_split(train_df, test_size=0.33, random_state=42)\n",
    "\n",
    "print(train_df.shape)\n",
    "print(test_df.shape)\n",
    "train_df.head()"
   ]
  },
  {
   "cell_type": "code",
   "execution_count": 64,
   "metadata": {},
   "outputs": [
    {
     "name": "stdout",
     "output_type": "stream",
     "text": [
      "0    3155\n",
      "1    2679\n",
      "Name: Grant.Status, dtype: int64\n"
     ]
    },
    {
     "data": {
      "text/plain": [
       "0    1561\n",
       "1    1313\n",
       "Name: Grant.Status, dtype: int64"
      ]
     },
     "execution_count": 64,
     "metadata": {},
     "output_type": "execute_result"
    }
   ],
   "source": [
    "print(train_df['Grant.Status'].value_counts(dropna=False))\n",
    "test_df['Grant.Status'].value_counts(dropna=False)"
   ]
  },
  {
   "cell_type": "code",
   "execution_count": 65,
   "metadata": {},
   "outputs": [
    {
     "data": {
      "text/plain": [
       "object    70\n",
       "dtype: int64"
      ]
     },
     "execution_count": 65,
     "metadata": {},
     "output_type": "execute_result"
    }
   ],
   "source": [
    "categorical = train_df.columns.difference(train_df._get_numeric_data().columns)\n",
    "train_df[categorical].dtypes.value_counts()"
   ]
  },
  {
   "cell_type": "code",
   "execution_count": 66,
   "metadata": {},
   "outputs": [],
   "source": [
    "from sklearn.preprocessing import LabelBinarizer, Imputer, LabelEncoder\n",
    "\n",
    "\n",
    "# lb = MultiLabelBinarizer()\n",
    "# lb = lb.fit(train_df[categorical].fillna(''))\n",
    "\n",
    "# train_lb = pd.DataFrame(lb.transfrom(train_df[categorical]), index=train_df.index)\n",
    "# train_lb.columns = ['lb_%d' for i in range(train_lb.shape[1])]\n",
    "\n",
    "# train_df = pd.concat([train_df.drop(categorical), \n",
    "#                       train_lb], axis=1)\n",
    "\n",
    "# test_lb = pd.DataFrame(lb.transfrom(test_df[categorical]), index=test_df.index)\n",
    "# test_lb.columns = ['lb_%d' for i in range(test_lb.shape[1])]\n",
    "\n",
    "# test_df = pd.concat([test_df.drop(categorical), \n",
    "#                       test_lb], axis=1)\n",
    "\n",
    "train_df = train_df.drop(categorical, axis=1)\n",
    "test_df = test_df.drop(categorical, axis=1)\n"
   ]
  },
  {
   "cell_type": "code",
   "execution_count": 113,
   "metadata": {},
   "outputs": [
    {
     "data": {
      "text/plain": [
       "((2874, 180), (5834, 180))"
      ]
     },
     "execution_count": 113,
     "metadata": {},
     "output_type": "execute_result"
    }
   ],
   "source": [
    "X_train, y_train = train_df.drop('Grant.Status', axis=1), train_df['Grant.Status']\n",
    "X_test, y_test = test_df.drop('Grant.Status', axis=1), test_df['Grant.Status']\n",
    "X_test.shape, X_train.shape"
   ]
  },
  {
   "cell_type": "code",
   "execution_count": 115,
   "metadata": {},
   "outputs": [],
   "source": [
    "from sklearn.preprocessing import Imputer, StandardScaler\n",
    "\n",
    "fillna = Imputer(strategy='mean')\n",
    "X_train = fillna.fit_transform(X_train)\n",
    "X_test = fillna.transform(X_test)\n",
    "\n",
    "ss = StandardScaler()\n",
    "X_train = ss.fit_transform(X_train)\n",
    "X_test = ss.transform(X_test)\n",
    "\n",
    "\n",
    "cols = train_df.drop('Grant.Status', axis=1).loc[:,~np.isnan(fillna.statistics_)].columns\n"
   ]
  },
  {
   "cell_type": "code",
   "execution_count": 85,
   "metadata": {},
   "outputs": [
    {
     "data": {
      "text/plain": [
       "((2874, 158), (5834, 158))"
      ]
     },
     "execution_count": 85,
     "metadata": {},
     "output_type": "execute_result"
    }
   ],
   "source": [
    "X_test.shape, X_train.shape"
   ]
  },
  {
   "cell_type": "code",
   "execution_count": 86,
   "metadata": {},
   "outputs": [
    {
     "name": "stderr",
     "output_type": "stream",
     "text": [
      "/opt/anaconda2/envs/py36/lib/python3.6/site-packages/sklearn/discriminant_analysis.py:387: UserWarning: Variables are collinear.\n",
      "  warnings.warn(\"Variables are collinear.\")\n",
      "/opt/anaconda2/envs/py36/lib/python3.6/site-packages/sklearn/discriminant_analysis.py:387: UserWarning: Variables are collinear.\n",
      "  warnings.warn(\"Variables are collinear.\")\n",
      "/opt/anaconda2/envs/py36/lib/python3.6/site-packages/sklearn/discriminant_analysis.py:387: UserWarning: Variables are collinear.\n",
      "  warnings.warn(\"Variables are collinear.\")\n",
      "/opt/anaconda2/envs/py36/lib/python3.6/site-packages/sklearn/discriminant_analysis.py:387: UserWarning: Variables are collinear.\n",
      "  warnings.warn(\"Variables are collinear.\")\n",
      "/opt/anaconda2/envs/py36/lib/python3.6/site-packages/sklearn/discriminant_analysis.py:387: UserWarning: Variables are collinear.\n",
      "  warnings.warn(\"Variables are collinear.\")\n"
     ]
    },
    {
     "data": {
      "text/plain": [
       "array([ 0.78089889,  0.7691904 ,  0.74578967,  0.77255068,  0.75086571])"
      ]
     },
     "execution_count": 86,
     "metadata": {},
     "output_type": "execute_result"
    }
   ],
   "source": [
    "from sklearn.discriminant_analysis import LinearDiscriminantAnalysis\n",
    "from sklearn.model_selection import cross_val_score, RandomizedSearchCV\n",
    "\n",
    "\n",
    "lda = LinearDiscriminantAnalysis(solver='svd', shrinkage=None, priors=None, n_components=None, \n",
    "                                 store_covariance=False, tol=0.0001)\n",
    "\n",
    "\n",
    "cross_val_score(lda, X_train, y_train, cv=5, scoring='roc_auc')"
   ]
  },
  {
   "cell_type": "code",
   "execution_count": 87,
   "metadata": {},
   "outputs": [
    {
     "name": "stderr",
     "output_type": "stream",
     "text": [
      "/opt/anaconda2/envs/py36/lib/python3.6/site-packages/sklearn/discriminant_analysis.py:387: UserWarning: Variables are collinear.\n",
      "  warnings.warn(\"Variables are collinear.\")\n"
     ]
    },
    {
     "data": {
      "text/plain": [
       "0.73071648954405211"
      ]
     },
     "execution_count": 87,
     "metadata": {},
     "output_type": "execute_result"
    }
   ],
   "source": [
    "lda.fit(X_train, y_train)\n",
    "lda.score(X_train, y_train)"
   ]
  },
  {
   "cell_type": "code",
   "execution_count": 88,
   "metadata": {},
   "outputs": [
    {
     "data": {
      "text/plain": [
       "0.71155184411969385"
      ]
     },
     "execution_count": 88,
     "metadata": {},
     "output_type": "execute_result"
    }
   ],
   "source": [
    "lda.score(X_test, y_test)"
   ]
  },
  {
   "cell_type": "code",
   "execution_count": 89,
   "metadata": {},
   "outputs": [
    {
     "name": "stderr",
     "output_type": "stream",
     "text": [
      "/opt/anaconda2/envs/py36/lib/python3.6/site-packages/matplotlib/font_manager.py:1297: UserWarning: findfont: Font family ['sans-serif'] not found. Falling back to DejaVu Sans\n",
      "  (prop.get_family(), self.defaultFamily[fontext]))\n"
     ]
    },
    {
     "data": {
      "image/png": "[encoded data removed]",
      "text/plain": [
       "<matplotlib.figure.Figure at 0x7f86be44b828>"
      ]
     },
     "metadata": {},
     "output_type": "display_data"
    }
   ],
   "source": [
    "import seaborn as sns\n",
    "\n",
    "crosst = pd.crosstab(pd.Series(lda.predict(X_test), name='Pred'), pd.Series(y_test, name='Fact'))\n",
    "sns.heatmap(crosst, annot=True, fmt=\"d\", linewidths=.5);"
   ]
  },
  {
   "cell_type": "code",
   "execution_count": 120,
   "metadata": {},
   "outputs": [
    {
     "data": {
      "text/plain": [
       "<matplotlib.axes._subplots.AxesSubplot at 0x7f87b47b1ef0>"
      ]
     },
     "execution_count": 120,
     "metadata": {},
     "output_type": "execute_result"
    },
    {
     "name": "stderr",
     "output_type": "stream",
     "text": [
      "/opt/anaconda2/envs/py36/lib/python3.6/site-packages/matplotlib/font_manager.py:1297: UserWarning: findfont: Font family ['sans-serif'] not found. Falling back to DejaVu Sans\n",
      "  (prop.get_family(), self.defaultFamily[fontext]))\n"
     ]
    },
    {
     "data": {
      "image/png": "[encoded data removed]",
      "text/plain": [
       "<matplotlib.figure.Figure at 0x7f86fc1914e0>"
      ]
     },
     "metadata": {},
     "output_type": "display_data"
    }
   ],
   "source": [
    "feat_imp = pd.Series(lda.coef_[0], index = cols).sort_values()[::-1]\n",
    "\n",
    "feat_imp.head(20)[::-1].plot.barh()"
   ]
  },
  {
   "cell_type": "code",
   "execution_count": 123,
   "metadata": {},
   "outputs": [
    {
     "data": {
      "text/plain": [
       "[]"
      ]
     },
     "execution_count": 123,
     "metadata": {},
     "output_type": "execute_result"
    }
   ],
   "source": [
    "[c for c in cols if 'aug' in c.lower()]"
   ]
  },
  {
   "cell_type": "code",
   "execution_count": null,
   "metadata": {
    "collapsed": true
   },
   "outputs": [],
   "source": []
  }
 ],
 "metadata": {
  "kernelspec": {
   "display_name": "py36",
   "language": "python",
   "name": "py36"
  },
  "language_info": {
   "codemirror_mode": {
    "name": "ipython",
    "version": 3
   },
   "file_extension": ".py",
   "mimetype": "text/x-python",
   "name": "python",
   "nbconvert_exporter": "python",
   "pygments_lexer": "ipython3",
   "version": "3.6.1"
  }
 },
 "nbformat": 4,
 "nbformat_minor": 2
}

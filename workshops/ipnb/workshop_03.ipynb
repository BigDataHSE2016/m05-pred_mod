{
 "cells": [
  {
   "cell_type": "code",
   "execution_count": 37,
   "metadata": {
    "collapsed": true
   },
   "outputs": [],
   "source": [
    "import pandas as pd\n",
    "import numpy as np\n",
    "import matplotlib.pyplot as plt\n",
    "from scipy import stats\n",
    "from sklearn.decomposition import PCA\n",
    "import seaborn as sns\n",
    "from sklearn.model_selection import train_test_split\n",
    "from sklearn.model_selection import KFold\n",
    "from sklearn import neighbors"
   ]
  },
  {
   "cell_type": "markdown",
   "metadata": {},
   "source": [
    "All files need to be converted from R.data format first. The can be done by opening up R console and issuing the\n",
    "following commands:\n",
    "\n",
    "load(\"/home/sam/Documents/BDS/APM/AppliedPredictiveModeling/data/segmentationOriginal.RData\") ('Route dir of .RData File)\n",
    "\n",
    "write.csv(segmentationOriginal, file = \"/home/sam/Documents/BDS/APM/segmentation_original.csv\")"
   ]
  },
  {
   "cell_type": "code",
   "execution_count": 21,
   "metadata": {},
   "outputs": [
    {
     "data": {
      "text/plain": [
       "Index([u'ID', u'PredictorA', u'PredictorB', u'x'], dtype='object')"
      ]
     },
     "execution_count": 21,
     "metadata": {},
     "output_type": "execute_result"
    }
   ],
   "source": [
    "two_class = pd.read_csv('./data/twoClassData.csv')\n",
    "two_class.columns = ['ID'] + list(two_class.columns[1:])\n",
    "two_class.columns"
   ]
  },
  {
   "cell_type": "code",
   "execution_count": 28,
   "metadata": {},
   "outputs": [],
   "source": [
    "X = two_class[['PredictorA', u'PredictorB']]\n",
    "y = two_class.x\n",
    "\n",
    "X_train, X_test, y_train, y_test = train_test_split(X, y, test_size=0.1, random_state=42)"
   ]
  },
  {
   "cell_type": "code",
   "execution_count": 34,
   "metadata": {},
   "outputs": [],
   "source": [
    "X_splits = []\n",
    "y_splits = []\n",
    "\n",
    "#Generate lists of X splits, and y splits separately\n",
    "for split in np.split(two_class, 4):\n",
    "    X_splits.append(split[['PredictorA', u'PredictorB']])\n",
    "    y_splits.append(split.x)"
   ]
  },
  {
   "cell_type": "code",
   "execution_count": 66,
   "metadata": {},
   "outputs": [
    {
     "name": "stdout",
     "output_type": "stream",
     "text": [
      "[[ 1.   0. ]\n",
      " [ 0.4  0.6]\n",
      " [ 0.4  0.6]\n",
      " [ 0.   1. ]\n",
      " [ 0.   1. ]]\n",
      "['Class1' 'Class2' 'Class2' 'Class2' 'Class2']\n"
     ]
    }
   ],
   "source": [
    "knn=neighbors.KNeighborsClassifier()\n",
    "\n",
    "# we create an instance of Neighbours Classifier and fit the data.\n",
    "knn.fit(X_train, y_train)\n",
    "#Probabilities for Class1 and Class 2 are given by proba function\n",
    "print knn.predict_proba(X_test)[:5]\n",
    "\n",
    "#Whereas class assignments are given by raw predict function\n",
    "print knn.predict(X_test)[:5]"
   ]
  },
  {
   "cell_type": "code",
   "execution_count": 73,
   "metadata": {},
   "outputs": [
    {
     "data": {
      "text/plain": [
       "array([ 0.54545455,  0.71428571,  0.76190476,  0.76190476,  0.52380952,\n",
       "        0.80952381,  0.9047619 ,  0.95      ,  0.75      ,  0.75      ])"
      ]
     },
     "execution_count": 73,
     "metadata": {},
     "output_type": "execute_result"
    }
   ],
   "source": [
    "#To implement cross validation in python, you can call the predictor directly with the X-val in cross_val_score\n",
    "from sklearn.model_selection import cross_val_score\n",
    "\n",
    "#Here we are running knn on the above data, with a 10 fold x-val\n",
    "scores = cross_val_score(knn, X, y, cv=10)\n",
    "\n",
    "#The function returns an accuracy score for each run of the classifier.\n",
    "scores                                              "
   ]
  },
  {
   "cell_type": "code",
   "execution_count": null,
   "metadata": {
    "collapsed": true
   },
   "outputs": [],
   "source": []
  }
 ],
 "metadata": {
  "kernelspec": {
   "display_name": "Python 2",
   "language": "python",
   "name": "python2"
  },
  "language_info": {
   "codemirror_mode": {
    "name": "ipython",
    "version": 2
   },
   "file_extension": ".py",
   "mimetype": "text/x-python",
   "name": "python",
   "nbconvert_exporter": "python",
   "pygments_lexer": "ipython2",
   "version": "2.7.13"
  }
 },
 "nbformat": 4,
 "nbformat_minor": 2
}
